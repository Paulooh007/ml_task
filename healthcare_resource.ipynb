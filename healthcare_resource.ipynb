{
 "cells": [
  {
   "cell_type": "code",
   "execution_count": 1,
   "id": "ca9d361b-a638-4f89-ad29-f9da986b8737",
   "metadata": {
    "tags": []
   },
   "outputs": [],
   "source": [
    "import warnings\n",
    "warnings.filterwarnings(\"ignore\")\n",
    "\n",
    "import pandas as pd\n",
    "from healthcare_resource_model import HealthcareResourceModel\n"
   ]
  },
  {
   "cell_type": "code",
   "execution_count": 2,
   "id": "0ed34397-d90b-42fb-83e9-99ef62d039c6",
   "metadata": {
    "tags": []
   },
   "outputs": [],
   "source": [
    "patient_demo_url='https://drive.googleHealthcareResourceModel/file/d/1_Y2Nia9xf_qEwp_Rd8L70myE7QrstAm-/view?usp=drive_link'\n",
    "patient_demo_url='https://drive.google.com/uc?id=' + patient_demo_url.split('/')[-2]\n",
    "\n",
    "patient_visits_url='https://drive.google.com/file/d/13-f5zH3qlVGthN-H7HD24XTOGZ3RmPYe/view?usp=drive_link'\n",
    "patient_visits_url='https://drive.google.com/uc?id=' + patient_visits_url.split('/')[-2]"
   ]
  },
  {
   "cell_type": "code",
   "execution_count": 3,
   "id": "a8f55dc3-7055-45d3-bde9-4e2c926939fb",
   "metadata": {
    "tags": []
   },
   "outputs": [],
   "source": [
    "patient_demo = pd.read_csv(patient_demo_url)\n",
    "patient_visit = pd.read_csv(patient_visits_url)"
   ]
  },
  {
   "cell_type": "code",
   "execution_count": 4,
   "id": "a12e900c-16d5-428b-875b-e4682ae8e5e2",
   "metadata": {
    "tags": []
   },
   "outputs": [],
   "source": [
    "# patient_demo = pd.read_csv(\"Patient_Demo.csv\")\n",
    "# patient_visit = pd.read_csv(\"Patient_Hospital_Visit.csv\")"
   ]
  },
  {
   "cell_type": "code",
   "execution_count": 5,
   "id": "c0c8da52-0613-4d80-9fce-2d2e620fec9e",
   "metadata": {
    "tags": []
   },
   "outputs": [
    {
     "data": {
      "text/plain": [
       "((150058, 5), (448600, 9))"
      ]
     },
     "execution_count": 5,
     "metadata": {},
     "output_type": "execute_result"
    }
   ],
   "source": [
    "patient_demo.shape, patient_visit.shape"
   ]
  },
  {
   "cell_type": "code",
   "execution_count": 6,
   "id": "020dabce-3805-4951-a9d3-db6914c0da79",
   "metadata": {
    "tags": []
   },
   "outputs": [],
   "source": [
    "patient_data = pd.merge(patient_demo, patient_visit, on=['patient_id', 'institution_id'], how='left')"
   ]
  },
  {
   "cell_type": "code",
   "execution_count": 7,
   "id": "0e76e062-7698-47eb-b09d-496268cdd32f",
   "metadata": {
    "tags": []
   },
   "outputs": [
    {
     "data": {
      "text/plain": [
       "(448146, 12)"
      ]
     },
     "execution_count": 7,
     "metadata": {},
     "output_type": "execute_result"
    }
   ],
   "source": [
    "patient_data.shape"
   ]
  },
  {
   "cell_type": "code",
   "execution_count": 8,
   "id": "5bffbb85-da59-4613-8cdb-93629c3327fd",
   "metadata": {
    "tags": []
   },
   "outputs": [
    {
     "data": {
      "text/plain": [
       "institution_id         0\n",
       "patient_id             0\n",
       "dob                  202\n",
       "sex                  287\n",
       "state             114612\n",
       "visit_id               0\n",
       "admitted_at       430193\n",
       "discharged_at     430093\n",
       "inserted_at            0\n",
       "updated_at             0\n",
       "visit_type             0\n",
       "type                   0\n",
       "dtype: int64"
      ]
     },
     "execution_count": 8,
     "metadata": {},
     "output_type": "execute_result"
    }
   ],
   "source": [
    "patient_data.isna().sum()"
   ]
  },
  {
   "cell_type": "markdown",
   "id": "9964c7da-f63a-4cab-b16a-dd9e9542d15c",
   "metadata": {},
   "source": [
    "## Data Preprocessing:\n",
    "### Missing Values:\n",
    "\n",
    "- state: 114612 missing values.\n",
    "- admitted_at: 430193 missing values.\n",
    "- discharged_at: 430093 missing values.\n",
    "\n",
    "The high number of missing values in `admitted_at` and `discharged_at` likely indicates that many of the records are for out-patient visits, where admission and discharge times are not applicable. For these cases, handling missing values might mean leaving them as `NaN`.\n",
    "\n",
    "For the state column, we need to decide whether to impute, remove, or leave these missing values as they are. Imputation might not be appropriate here due to the nature of the data (geographical information).\n",
    "\n",
    "### Standardization:\n",
    "- Date columns (dob, admitted_at, discharged_at, inserted_at, updated_at) have been converted to a consistent datetime format.\n",
    "- Categorical data (sex, state, visit_type, type) has been converted to lowercase for consistency."
   ]
  },
  {
   "cell_type": "code",
   "execution_count": 9,
   "id": "6984c819-5b6c-4aac-8676-e8c2aec881f1",
   "metadata": {
    "tags": []
   },
   "outputs": [],
   "source": [
    "healthcare_model = HealthcareResourceModel()"
   ]
  },
  {
   "cell_type": "code",
   "execution_count": 10,
   "id": "787ddcf9-d361-470f-a7fa-cb1c836ac440",
   "metadata": {
    "tags": []
   },
   "outputs": [],
   "source": [
    "healthcare_model.load_and_preprocess_data(patient_data)"
   ]
  },
  {
   "cell_type": "code",
   "execution_count": 11,
   "id": "0ea476f0-55bc-40a6-a615-d6845ee24c93",
   "metadata": {
    "tags": []
   },
   "outputs": [
    {
     "data": {
      "text/html": [
       "<div>\n",
       "<style scoped>\n",
       "    .dataframe tbody tr th:only-of-type {\n",
       "        vertical-align: middle;\n",
       "    }\n",
       "\n",
       "    .dataframe tbody tr th {\n",
       "        vertical-align: top;\n",
       "    }\n",
       "\n",
       "    .dataframe thead th {\n",
       "        text-align: right;\n",
       "    }\n",
       "</style>\n",
       "<table border=\"1\" class=\"dataframe\">\n",
       "  <thead>\n",
       "    <tr style=\"text-align: right;\">\n",
       "      <th></th>\n",
       "      <th>institution_id</th>\n",
       "      <th>patient_id</th>\n",
       "      <th>dob</th>\n",
       "      <th>sex</th>\n",
       "      <th>state</th>\n",
       "      <th>visit_id</th>\n",
       "      <th>admitted_at</th>\n",
       "      <th>discharged_at</th>\n",
       "      <th>inserted_at</th>\n",
       "      <th>updated_at</th>\n",
       "      <th>visit_type</th>\n",
       "      <th>type</th>\n",
       "    </tr>\n",
       "  </thead>\n",
       "  <tbody>\n",
       "    <tr>\n",
       "      <th>3</th>\n",
       "      <td>0fa2e546-c292-4060-a05e-beb53fc31e72</td>\n",
       "      <td>2CEW8BKP6</td>\n",
       "      <td>1935-10-09</td>\n",
       "      <td>female</td>\n",
       "      <td>delta</td>\n",
       "      <td>85572466-e5d5-4a44-bdd4-c1c00d056d60</td>\n",
       "      <td>2021-07-29 07:42:17</td>\n",
       "      <td>2021-08-19 08:00:03</td>\n",
       "      <td>2021-07-29</td>\n",
       "      <td>2021-08-19 08:00:03.636032</td>\n",
       "      <td>in-patient</td>\n",
       "      <td>hospital</td>\n",
       "    </tr>\n",
       "    <tr>\n",
       "      <th>20</th>\n",
       "      <td>5cc2687c-e6b7-4e76-b7e5-2da37ae08cdb</td>\n",
       "      <td>37V5T987F</td>\n",
       "      <td>1963-07-02</td>\n",
       "      <td>female</td>\n",
       "      <td>lagos</td>\n",
       "      <td>034a7258-5d66-456b-8fd5-1a5a71649172</td>\n",
       "      <td>2021-06-22 05:21:27</td>\n",
       "      <td>2021-06-22 09:11:05</td>\n",
       "      <td>2021-06-22</td>\n",
       "      <td>2021-06-22 09:11:05.958807</td>\n",
       "      <td>in-patient</td>\n",
       "      <td>hospital</td>\n",
       "    </tr>\n",
       "    <tr>\n",
       "      <th>21</th>\n",
       "      <td>5cc2687c-e6b7-4e76-b7e5-2da37ae08cdb</td>\n",
       "      <td>37V5T987F</td>\n",
       "      <td>1963-07-02</td>\n",
       "      <td>female</td>\n",
       "      <td>lagos</td>\n",
       "      <td>812efed7-fa91-4ec8-965c-79ec7b8563e5</td>\n",
       "      <td>2021-06-20 18:30:41</td>\n",
       "      <td>2021-06-22 05:09:48</td>\n",
       "      <td>2021-06-20</td>\n",
       "      <td>2021-06-22 05:09:48.747395</td>\n",
       "      <td>in-patient</td>\n",
       "      <td>hospital</td>\n",
       "    </tr>\n",
       "    <tr>\n",
       "      <th>28</th>\n",
       "      <td>94a0a068-e4b8-4e3a-8757-5d2a627d6878</td>\n",
       "      <td>3F8JZPC35</td>\n",
       "      <td>1980-12-15</td>\n",
       "      <td>male</td>\n",
       "      <td>akwa ibom</td>\n",
       "      <td>5c6e1fee-dc3e-4875-9c7d-6587eaa2463e</td>\n",
       "      <td>2021-02-18 22:33:49</td>\n",
       "      <td>2021-02-22 10:01:25</td>\n",
       "      <td>2021-02-18</td>\n",
       "      <td>2021-02-22 10:01:25.280476</td>\n",
       "      <td>in-patient</td>\n",
       "      <td>hospital</td>\n",
       "    </tr>\n",
       "    <tr>\n",
       "      <th>104</th>\n",
       "      <td>157af2f9-073d-4d75-89e0-b6d214c6d05e</td>\n",
       "      <td>92ZEZ5MD7</td>\n",
       "      <td>1995-09-26</td>\n",
       "      <td>female</td>\n",
       "      <td>ogun</td>\n",
       "      <td>adf5fba1-bbe6-48e1-94cb-ce0c2e9acbde</td>\n",
       "      <td>2021-11-05 12:54:23</td>\n",
       "      <td>2021-11-06 13:48:05</td>\n",
       "      <td>2021-11-05</td>\n",
       "      <td>2021-11-06 13:48:05.643793</td>\n",
       "      <td>in-patient</td>\n",
       "      <td>hospital</td>\n",
       "    </tr>\n",
       "  </tbody>\n",
       "</table>\n",
       "</div>"
      ],
      "text/plain": [
       "                           institution_id patient_id        dob     sex   \n",
       "3    0fa2e546-c292-4060-a05e-beb53fc31e72  2CEW8BKP6 1935-10-09  female  \\\n",
       "20   5cc2687c-e6b7-4e76-b7e5-2da37ae08cdb  37V5T987F 1963-07-02  female   \n",
       "21   5cc2687c-e6b7-4e76-b7e5-2da37ae08cdb  37V5T987F 1963-07-02  female   \n",
       "28   94a0a068-e4b8-4e3a-8757-5d2a627d6878  3F8JZPC35 1980-12-15    male   \n",
       "104  157af2f9-073d-4d75-89e0-b6d214c6d05e  92ZEZ5MD7 1995-09-26  female   \n",
       "\n",
       "         state                              visit_id         admitted_at   \n",
       "3        delta  85572466-e5d5-4a44-bdd4-c1c00d056d60 2021-07-29 07:42:17  \\\n",
       "20       lagos  034a7258-5d66-456b-8fd5-1a5a71649172 2021-06-22 05:21:27   \n",
       "21       lagos  812efed7-fa91-4ec8-965c-79ec7b8563e5 2021-06-20 18:30:41   \n",
       "28   akwa ibom  5c6e1fee-dc3e-4875-9c7d-6587eaa2463e 2021-02-18 22:33:49   \n",
       "104       ogun  adf5fba1-bbe6-48e1-94cb-ce0c2e9acbde 2021-11-05 12:54:23   \n",
       "\n",
       "          discharged_at inserted_at                 updated_at  visit_type   \n",
       "3   2021-08-19 08:00:03  2021-07-29 2021-08-19 08:00:03.636032  in-patient  \\\n",
       "20  2021-06-22 09:11:05  2021-06-22 2021-06-22 09:11:05.958807  in-patient   \n",
       "21  2021-06-22 05:09:48  2021-06-20 2021-06-22 05:09:48.747395  in-patient   \n",
       "28  2021-02-22 10:01:25  2021-02-18 2021-02-22 10:01:25.280476  in-patient   \n",
       "104 2021-11-06 13:48:05  2021-11-05 2021-11-06 13:48:05.643793  in-patient   \n",
       "\n",
       "         type  \n",
       "3    hospital  \n",
       "20   hospital  \n",
       "21   hospital  \n",
       "28   hospital  \n",
       "104  hospital  "
      ]
     },
     "execution_count": 11,
     "metadata": {},
     "output_type": "execute_result"
    }
   ],
   "source": [
    "healthcare_model.data.head()"
   ]
  },
  {
   "cell_type": "markdown",
   "id": "e6fb61e1-e4bc-430d-b76b-b1bc6005782d",
   "metadata": {},
   "source": [
    "- **Remove Rows with Missing `state` Values:** Since there is no straightforward way to impute the state values and they are important for demographic analysis, we'll remove rows where state is missing.\n",
    "\n",
    "- **Handling `admitted_at` and `discharged_at`:** Given the nature of these fields, \n",
    "their absence likely indicates out-patient visits. However, since you've requested to remove missing values, \n",
    "we will also remove rows where these fields are missing. This action will primarily leave us with in-patient records.\n",
    "\n",
    "\n",
    "The removal of rows with missing values in state, admitted_at, or discharged_at has resulted in a dataset with 14,508 records, reduced from the original size. This dataset now primarily contains records of in-patient visits with complete information on state and admission/discharge times."
   ]
  },
  {
   "cell_type": "code",
   "execution_count": 12,
   "id": "65d21092-c40d-4d13-babc-4a3f47e04fb3",
   "metadata": {
    "tags": []
   },
   "outputs": [
    {
     "name": "stdout",
     "output_type": "stream",
     "text": [
      "                Number of Rows      Data Types  Missing Values  Missing Value Percentages\n",
      "institution_id           14508          object               0                        0.0\n",
      "patient_id               14508          object               0                        0.0\n",
      "dob                      14508  datetime64[ns]               0                        0.0\n",
      "sex                      14508          object               0                        0.0\n",
      "state                    14508          object               0                        0.0\n",
      "visit_id                 14508          object               0                        0.0\n",
      "admitted_at              14508  datetime64[ns]               0                        0.0\n",
      "discharged_at            14508  datetime64[ns]               0                        0.0\n",
      "inserted_at              14508  datetime64[ns]               0                        0.0\n",
      "updated_at               14508  datetime64[ns]               0                        0.0\n",
      "visit_type               14508          object               0                        0.0\n",
      "type                     14508          object               0                        0.0\n"
     ]
    }
   ],
   "source": [
    "summary = healthcare_model.dataset_summary()"
   ]
  },
  {
   "cell_type": "code",
   "execution_count": 14,
   "id": "a655beaf-056a-48c1-a294-9200ebaf2c3c",
   "metadata": {
    "tags": []
   },
   "outputs": [],
   "source": [
    "healthcare_model.feature_engineering()"
   ]
  },
  {
   "cell_type": "markdown",
   "id": "946afb4a-2dc4-4fe9-829a-72171b16e742",
   "metadata": {},
   "source": [
    "## Feature Engineering\n",
    "\n",
    "### 1. Temporal Features\n",
    "- Time of Year: Extract month and day of the week from admitted_at and dob. Certain times of the year or week might have higher resource demands.\n",
    "- Age: Calculate the age of patients from dob. Age can be a significant factor in healthcare resource utilization.\n",
    "- Stay Duration: Calculate the length of stay from admitted_at and discharged_at. A longer stay might indicate higher resource utilization.\n",
    "\n",
    "### 2. Categorical Features\n",
    "- Label Encoding: Convert categorical variables like sex, state, and visit_type into a format that can be used by machine learning models.\n",
    "- Aggregation: If there's any categorical data that can be aggregated (e.g., number of visits per state), it might be valuable\n",
    "\n",
    "\n",
    "### 3. Target Variable\n",
    "Given the nature the dataset and the task of predicting resource demand in healthcare facilities, the most relevant target variable we can derive from the current dataset is the `length of stay` (which we can calculate as length_of_stay). This is a common proxy for resource utilization in healthcare settings, as longer stays generally indicate more resource usage (medication, bed occupancy, staff time, etc.).\n",
    "\n",
    "Using the length of stay as the target variable allows us to frame this as a regression problem, where the model predicts a continuous value representing the estimated duration of a patient's stay based on various features like demographic information, admission details, and other patient attributes."
   ]
  },
  {
   "cell_type": "code",
   "execution_count": 15,
   "id": "37eb09cd-ceee-4d70-a143-8609577f5b4c",
   "metadata": {
    "tags": []
   },
   "outputs": [],
   "source": [
    "healthcare_model.split_data()"
   ]
  },
  {
   "cell_type": "code",
   "execution_count": 21,
   "id": "14c92132-cca4-4d22-bab7-4157502b0ecf",
   "metadata": {
    "tags": []
   },
   "outputs": [
    {
     "name": "stdout",
     "output_type": "stream",
     "text": [
      "Model: Linear Regression, MAE: 9.594311647427116\n",
      "Model: Decision Tree Regressor, MAE: 10.108311567466775\n",
      "Model: Random Forest Regressor, MAE: 8.585068820820547\n",
      "Model: Gradient Boosting Regressor, MAE: 8.030873129024037\n",
      " \n",
      "Best Model: Gradient Boosting Regressor, Best MAE: 8.030873129024037\n"
     ]
    }
   ],
   "source": [
    "best_model, best_mae = healthcare_model.model_selection()\n",
    "print(\" \")\n",
    "print(f\"Best Model: {best_model}, Best MAE: {best_mae}\")\n"
   ]
  },
  {
   "cell_type": "code",
   "execution_count": 22,
   "id": "a5560b68-a7ff-4b27-9736-a77138b5b02e",
   "metadata": {
    "tags": []
   },
   "outputs": [],
   "source": [
    "healthcare_model.save_best_model(best_model)"
   ]
  },
  {
   "cell_type": "code",
   "execution_count": 23,
   "id": "8a92e78a-04ae-4cba-a3a9-347a99f40769",
   "metadata": {
    "tags": []
   },
   "outputs": [
    {
     "name": "stdout",
     "output_type": "stream",
     "text": [
      "MAE: 8.030873129024037, RMSE: 24.300611305383512\n"
     ]
    },
    {
     "data": {
      "image/png": "[encoded data removed]",
      "text/plain": [
       "<Figure size 1000x600 with 1 Axes>"
      ]
     },
     "metadata": {},
     "output_type": "display_data"
    }
   ],
   "source": [
    "mae, rmse = healthcare_model.evaluate_model()\n",
    "print(f\"MAE: {mae}, RMSE: {rmse}\")\n",
    "\n",
    "healthcare_model.plot_feature_importance()"
   ]
  },
  {
   "cell_type": "markdown",
   "id": "f70e2bd9-c3cd-4dd3-867c-b25c1186f95c",
   "metadata": {},
   "source": [
    "The feature importance plot shows the most important features in the Gradient Boosting Regressor model for predicting the length of stay in healthcare facilities. These features are the key drivers behind the model's predictions and, by extension, can be seen as influential factors in resource demand."
   ]
  },
  {
   "cell_type": "code",
   "execution_count": null,
   "id": "8378d97b-252a-406d-afca-9e37af637edb",
   "metadata": {},
   "outputs": [],
   "source": []
  },
  {
   "cell_type": "markdown",
   "id": "686a377b-0bd4-4c69-a0d6-ffc939ebf392",
   "metadata": {},
   "source": [
    "## Deployment\n",
    "\n",
    "We can run a simple docker container serving us the model api by running the following\n",
    "\n",
    "```\n",
    "docker build -t mymodelapi .\n",
    "docker run -p 80:80 mymodelapi\n",
    "```\n",
    "\n",
    "\n",
    "\n",
    "## Immidiate next steps.\n",
    "\n",
    "### Testing:\n",
    "\n",
    "Test the Docker container locally to ensure the FastAPI service runs correctly and can handle prediction requests.\n",
    "Cloud Deployment:\n",
    "\n",
    "### Choose a cloud platform (AWS, Azure, Google Cloud) for deployment.\n",
    "Deploy the container to a cloud service, like AWS ECS or Google Cloud Run, which simplifies deployment and scaling.\n",
    "CI/CD Setup:\n",
    "\n",
    "\n",
    "### Monitoring:\n",
    "\n",
    "Set up monitoring and logging with tools like Evidently AI, or cloud-native solutions to track the application's performance and health."
   ]
  },
  {
   "cell_type": "code",
   "execution_count": null,
   "id": "7bfd95c7-b3f3-430f-bf39-ea81a83ea691",
   "metadata": {},
   "outputs": [],
   "source": []
  }
 ],
 "metadata": {
  "kernelspec": {
   "display_name": "Python 3 (ipykernel)",
   "language": "python",
   "name": "python3"
  },
  "language_info": {
   "codemirror_mode": {
    "name": "ipython",
    "version": 3
   },
   "file_extension": ".py",
   "mimetype": "text/x-python",
   "name": "python",
   "nbconvert_exporter": "python",
   "pygments_lexer": "ipython3",
   "version": "3.8.18"
  }
 },
 "nbformat": 4,
 "nbformat_minor": 5
}
